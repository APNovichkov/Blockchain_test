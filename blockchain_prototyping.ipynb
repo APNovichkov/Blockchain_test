{
 "cells": [
  {
   "cell_type": "code",
   "execution_count": 5,
   "metadata": {},
   "outputs": [],
   "source": [
    "import hashlib, json"
   ]
  },
  {
   "cell_type": "code",
   "execution_count": 6,
   "metadata": {},
   "outputs": [
    {
     "data": {
      "text/plain": [
       "'b94d27b9934d3e08a52e52d7da7dabfac484efe37a5380ee9088f7ace2efcde9'"
      ]
     },
     "execution_count": 6,
     "metadata": {},
     "output_type": "execute_result"
    }
   ],
   "source": [
    "hashlib.sha256(b\"hello world\").hexdigest()"
   ]
  },
  {
   "cell_type": "code",
   "execution_count": 7,
   "metadata": {},
   "outputs": [],
   "source": [
    "block_genesis = {\n",
    "    'prev_hash': None,\n",
    "    'transactions': [1,3,4,2]\n",
    "}"
   ]
  },
  {
   "cell_type": "code",
   "execution_count": 12,
   "metadata": {},
   "outputs": [],
   "source": [
    "block_genesis_serialized = json.dumps(block_genesis, sort_keys=True).encode('utf-8')"
   ]
  },
  {
   "cell_type": "code",
   "execution_count": 13,
   "metadata": {},
   "outputs": [],
   "source": [
    "block_genesis_hash = hashlib.sha256(block_genesis_serialized).hexdigest()"
   ]
  },
  {
   "cell_type": "code",
   "execution_count": 14,
   "metadata": {},
   "outputs": [
    {
     "data": {
      "text/plain": [
       "'5612d07f6a00977bb0644dfb0a5d58723a381e86ce428de2625e4c125173d1b0'"
      ]
     },
     "execution_count": 14,
     "metadata": {},
     "output_type": "execute_result"
    }
   ],
   "source": [
    "block_genesis_hash"
   ]
  },
  {
   "cell_type": "code",
   "execution_count": 15,
   "metadata": {},
   "outputs": [],
   "source": [
    "block_2 = {\n",
    "    'prev_hash': block_genesis_hash,\n",
    "    'transactions': [3,3,3,8,7,12]\n",
    "}"
   ]
  },
  {
   "cell_type": "code",
   "execution_count": 16,
   "metadata": {},
   "outputs": [],
   "source": [
    "block_2_serialized = json.dumps(block_2, sort_keys=True).encode('utf-8')"
   ]
  },
  {
   "cell_type": "code",
   "execution_count": 17,
   "metadata": {},
   "outputs": [],
   "source": [
    "block_2_hash = hashlib.sha256(block_2_serialized).hexdigest()"
   ]
  },
  {
   "cell_type": "code",
   "execution_count": 18,
   "metadata": {},
   "outputs": [
    {
     "data": {
      "text/plain": [
       "'840c51df6cc50ff6ec52e0cb5662ea351b9bcda4247f99fff213f39875bb9227'"
      ]
     },
     "execution_count": 18,
     "metadata": {},
     "output_type": "execute_result"
    }
   ],
   "source": [
    "block_2_hash"
   ]
  },
  {
   "cell_type": "code",
   "execution_count": 19,
   "metadata": {},
   "outputs": [],
   "source": [
    "block_3 = {\n",
    "    'prev_hash': block_2_hash,\n",
    "    'transactions': [3,2,5,4,6]\n",
    "}"
   ]
  },
  {
   "cell_type": "code",
   "execution_count": 20,
   "metadata": {},
   "outputs": [],
   "source": [
    "block_3_serialized = json.dumps(block_3, sort_keys=True).encode('utf-8')"
   ]
  },
  {
   "cell_type": "code",
   "execution_count": 21,
   "metadata": {},
   "outputs": [],
   "source": [
    "block_3_hash = hashlib.sha256(block_3_serialized).hexdigest()"
   ]
  },
  {
   "cell_type": "code",
   "execution_count": 22,
   "metadata": {},
   "outputs": [],
   "source": [
    "def hash_blocks(blocks):\n",
    "    prev_hash=None\n",
    "    for block in blocks:\n",
    "        block['prev_hash'] = prev_hash\n",
    "        block_serialized = json.dumps(block, sort_keys=True).encode('utf-8')\n",
    "        block_hash = hashlib.sha256(block_serialized).hexdigest()\n",
    "        prev_hash = block_hash\n",
    "    \n",
    "    return prev_hash"
   ]
  },
  {
   "cell_type": "code",
   "execution_count": 26,
   "metadata": {},
   "outputs": [
    {
     "name": "stdout",
     "output_type": "stream",
     "text": [
      "Original Hash\n",
      "a35e00882479b8f3940af253ebd975bf7de22e8babda63bb7fe4eb8d443aa779\n"
     ]
    }
   ],
   "source": [
    "print(\"Original Hash\")\n",
    "print(hash_blocks([block_genesis, block_2, block_3]))"
   ]
  },
  {
   "cell_type": "code",
   "execution_count": 27,
   "metadata": {},
   "outputs": [
    {
     "name": "stdout",
     "output_type": "stream",
     "text": [
      "Tempering with the data\n"
     ]
    }
   ],
   "source": [
    "print(\"Tempering with the data\")\n",
    "block_genesis['transactions'][0] = 3"
   ]
  },
  {
   "cell_type": "code",
   "execution_count": 28,
   "metadata": {},
   "outputs": [
    {
     "name": "stdout",
     "output_type": "stream",
     "text": [
      "After being tempered\n",
      "c586f0829f28488236d2d8c88169194c4fa3f60c4fd8f70d17499a3b7add3a8d\n"
     ]
    }
   ],
   "source": [
    "print(\"After being tempered\")\n",
    "print(hash_blocks([block_genesis, block_2, block_3]))"
   ]
  },
  {
   "cell_type": "code",
   "execution_count": null,
   "metadata": {},
   "outputs": [],
   "source": []
  }
 ],
 "metadata": {
  "kernelspec": {
   "display_name": "Python 3",
   "language": "python",
   "name": "python3"
  },
  "language_info": {
   "codemirror_mode": {
    "name": "ipython",
    "version": 3
   },
   "file_extension": ".py",
   "mimetype": "text/x-python",
   "name": "python",
   "nbconvert_exporter": "python",
   "pygments_lexer": "ipython3",
   "version": "3.7.4"
  }
 },
 "nbformat": 4,
 "nbformat_minor": 2
}
